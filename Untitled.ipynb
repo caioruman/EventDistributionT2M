{
 "cells": [
  {
   "cell_type": "code",
   "execution_count": 18,
   "id": "willing-journalism",
   "metadata": {},
   "outputs": [],
   "source": [
    "# coding: utf-8\n",
    "\n",
    "import xarray as xr\n",
    "import numpy as np\n",
    "import pandas as pd\n",
    "from glob import glob\n",
    "import sys\n",
    "from datetime import datetime\n",
    "from dateutil.relativedelta import relativedelta\n",
    "import pickle\n",
    "import os"
   ]
  },
  {
   "cell_type": "code",
   "execution_count": 20,
   "id": "designing-representation",
   "metadata": {},
   "outputs": [
    {
     "name": "stdout",
     "output_type": "stream",
     "text": [
      "Year: 2002\n",
      "Month: 1\n"
     ]
    }
   ],
   "source": [
    "data1, data2 = main()"
   ]
  },
  {
   "cell_type": "code",
   "execution_count": 5,
   "id": "distributed-roads",
   "metadata": {},
   "outputs": [
    {
     "data": {
      "text/plain": [
       "(745, 153, 166)"
      ]
     },
     "execution_count": 5,
     "metadata": {},
     "output_type": "execute_result"
    }
   ],
   "source": [
    "data1.shape"
   ]
  },
  {
   "cell_type": "code",
   "execution_count": 27,
   "id": "selected-webcam",
   "metadata": {},
   "outputs": [],
   "source": [
    "sn_pr1 = data1.where(data2 > 1, 999)"
   ]
  },
  {
   "cell_type": "code",
   "execution_count": 17,
   "id": "major-bonus",
   "metadata": {},
   "outputs": [
    {
     "data": {
      "text/plain": [
       "280.8208"
      ]
     },
     "execution_count": 17,
     "metadata": {},
     "output_type": "execute_result"
    }
   ],
   "source": [
    "np.nanmax(sn_pr1)"
   ]
  },
  {
   "cell_type": "code",
   "execution_count": 28,
   "id": "growing-circus",
   "metadata": {},
   "outputs": [],
   "source": [
    "# use the np.where to mask everything that's >2 and <-2 in the data\n",
    "# Where it's not masked, make it 1. \n",
    "# Sum everything each month. That will be the number of hours  \n",
    "count_bool_le = np.less_equal(sn_pr1.values, 271.15)\n",
    "count_bool_ge = np.greater_equal(sn_pr1.values, 275.15)\n",
    "# Boolean array with the places where the temperature is between -2 and 2\n",
    "between = count_bool_ge + count_bool_le\n",
    "aux = np.invert(between)\n",
    "# Counting all the 1 values in the time dimension\n",
    "count = np.count_nonzero(aux.astype(int), axis=0)\n"
   ]
  },
  {
   "cell_type": "code",
   "execution_count": 29,
   "id": "recognized-archives",
   "metadata": {},
   "outputs": [
    {
     "data": {
      "text/plain": [
       "array([[17, 13,  5, ...,  4,  4,  5],\n",
       "       [12, 13,  1, ...,  5,  6,  6],\n",
       "       [20, 12,  4, ...,  6,  6,  6],\n",
       "       ...,\n",
       "       [ 0,  0,  0, ...,  9,  8,  8],\n",
       "       [ 0,  0,  0, ...,  6,  8,  7],\n",
       "       [ 0,  0,  0, ...,  6,  8,  7]])"
      ]
     },
     "execution_count": 29,
     "metadata": {},
     "output_type": "execute_result"
    }
   ],
   "source": [
    "count"
   ]
  },
  {
   "cell_type": "code",
   "execution_count": 23,
   "id": "hollow-rider",
   "metadata": {},
   "outputs": [
    {
     "data": {
      "text/plain": [
       "array([[736, 736, 742, ..., 726, 727, 728],\n",
       "       [738, 742, 740, ..., 726, 726, 726],\n",
       "       [737, 741, 742, ..., 725, 726, 724],\n",
       "       ...,\n",
       "       [741, 741, 741, ..., 743, 743, 742],\n",
       "       [744, 741, 741, ..., 742, 743, 742],\n",
       "       [744, 744, 744, ..., 742, 742, 743]])"
      ]
     },
     "execution_count": 23,
     "metadata": {},
     "output_type": "execute_result"
    }
   ],
   "source": [
    "count"
   ]
  },
  {
   "cell_type": "code",
   "execution_count": 49,
   "id": "inclusive-preparation",
   "metadata": {},
   "outputs": [],
   "source": [
    "np.copyto(aux2, aux, where=between)"
   ]
  },
  {
   "cell_type": "code",
   "execution_count": 50,
   "id": "varied-planning",
   "metadata": {},
   "outputs": [
    {
     "data": {
      "text/plain": [
       "271.15005"
      ]
     },
     "execution_count": 50,
     "metadata": {},
     "output_type": "execute_result"
    }
   ],
   "source": [
    "np.nanmin(aux2)"
   ]
  },
  {
   "cell_type": "code",
   "execution_count": 43,
   "id": "weird-antigua",
   "metadata": {},
   "outputs": [
    {
     "data": {
      "text/plain": [
       "array([[[      nan,       nan,       nan, ...,       nan,       nan,\n",
       "               nan],\n",
       "        [      nan,       nan,       nan, ...,       nan,       nan,\n",
       "               nan],\n",
       "        [      nan,       nan,       nan, ...,       nan,       nan,\n",
       "               nan],\n",
       "        ...,\n",
       "        [      nan,       nan,       nan, ..., 273.3477 , 273.30353,\n",
       "         273.26233],\n",
       "        [      nan,       nan,       nan, ..., 273.32568, 273.27975,\n",
       "         273.23584],\n",
       "        [      nan,       nan,       nan, ..., 273.30148, 273.2549 ,\n",
       "         273.2064 ]],\n",
       "\n",
       "       [[      nan,       nan,       nan, ...,       nan,       nan,\n",
       "               nan],\n",
       "        [      nan,       nan,       nan, ...,       nan,       nan,\n",
       "               nan],\n",
       "        [      nan,       nan,       nan, ...,       nan,       nan,\n",
       "               nan],\n",
       "        ...,\n",
       "        [      nan,       nan,       nan, ..., 273.2735 , 273.22034,\n",
       "         273.17102],\n",
       "        [      nan,       nan,       nan, ..., 273.24127, 273.18796,\n",
       "         273.14066],\n",
       "        [      nan,       nan,       nan, ..., 273.20587, 273.1542 ,\n",
       "         273.11078]],\n",
       "\n",
       "       [[      nan,       nan,       nan, ...,       nan,       nan,\n",
       "               nan],\n",
       "        [      nan,       nan,       nan, ...,       nan,       nan,\n",
       "               nan],\n",
       "        [      nan,       nan,       nan, ...,       nan,       nan,\n",
       "               nan],\n",
       "        ...,\n",
       "        [      nan,       nan,       nan, ..., 273.19376, 273.14908,\n",
       "         273.10785],\n",
       "        [      nan,       nan,       nan, ..., 273.16296, 273.11984,\n",
       "         273.08148],\n",
       "        [      nan,       nan,       nan, ..., 273.1333 , 273.09244,\n",
       "         273.05777]],\n",
       "\n",
       "       ...,\n",
       "\n",
       "       [[      nan,       nan,       nan, ...,       nan,       nan,\n",
       "               nan],\n",
       "        [      nan,       nan,       nan, ...,       nan,       nan,\n",
       "               nan],\n",
       "        [      nan,       nan,       nan, ...,       nan,       nan,\n",
       "               nan],\n",
       "        ...,\n",
       "        [      nan,       nan,       nan, ...,       nan,       nan,\n",
       "               nan],\n",
       "        [      nan,       nan,       nan, ...,       nan,       nan,\n",
       "               nan],\n",
       "        [      nan,       nan,       nan, ...,       nan,       nan,\n",
       "               nan]],\n",
       "\n",
       "       [[      nan,       nan,       nan, ...,       nan,       nan,\n",
       "               nan],\n",
       "        [      nan,       nan,       nan, ...,       nan,       nan,\n",
       "               nan],\n",
       "        [      nan,       nan,       nan, ...,       nan,       nan,\n",
       "               nan],\n",
       "        ...,\n",
       "        [      nan,       nan,       nan, ...,       nan,       nan,\n",
       "               nan],\n",
       "        [      nan,       nan,       nan, ...,       nan,       nan,\n",
       "               nan],\n",
       "        [      nan,       nan,       nan, ...,       nan,       nan,\n",
       "               nan]],\n",
       "\n",
       "       [[      nan,       nan,       nan, ...,       nan,       nan,\n",
       "               nan],\n",
       "        [      nan,       nan,       nan, ...,       nan,       nan,\n",
       "               nan],\n",
       "        [      nan,       nan,       nan, ...,       nan,       nan,\n",
       "               nan],\n",
       "        ...,\n",
       "        [      nan,       nan,       nan, ...,       nan,       nan,\n",
       "               nan],\n",
       "        [      nan,       nan,       nan, ...,       nan,       nan,\n",
       "               nan],\n",
       "        [      nan,       nan,       nan, ...,       nan,       nan,\n",
       "               nan]]], dtype=float32)"
      ]
     },
     "execution_count": 43,
     "metadata": {},
     "output_type": "execute_result"
    }
   ],
   "source": [
    "aux2"
   ]
  },
  {
   "cell_type": "code",
   "execution_count": 22,
   "id": "friendly-accordance",
   "metadata": {},
   "outputs": [
    {
     "data": {
      "text/plain": [
       "array([[[ True,  True,  True, ...,  True,  True,  True],\n",
       "        [ True,  True,  True, ...,  True,  True,  True],\n",
       "        [ True,  True,  True, ...,  True,  True,  True],\n",
       "        ...,\n",
       "        [ True,  True,  True, ..., False, False, False],\n",
       "        [ True,  True,  True, ..., False, False, False],\n",
       "        [ True,  True,  True, ..., False, False, False]],\n",
       "\n",
       "       [[ True,  True,  True, ...,  True,  True,  True],\n",
       "        [ True,  True,  True, ...,  True,  True,  True],\n",
       "        [ True,  True,  True, ...,  True,  True,  True],\n",
       "        ...,\n",
       "        [ True,  True,  True, ..., False, False, False],\n",
       "        [ True,  True,  True, ..., False, False, False],\n",
       "        [ True,  True,  True, ..., False, False, False]],\n",
       "\n",
       "       [[ True,  True,  True, ...,  True,  True,  True],\n",
       "        [ True,  True,  True, ...,  True,  True,  True],\n",
       "        [ True,  True,  True, ...,  True,  True,  True],\n",
       "        ...,\n",
       "        [ True,  True,  True, ..., False, False, False],\n",
       "        [ True,  True,  True, ..., False, False, False],\n",
       "        [ True,  True,  True, ..., False, False, False]],\n",
       "\n",
       "       ...,\n",
       "\n",
       "       [[ True,  True,  True, ...,  True,  True,  True],\n",
       "        [ True,  True,  True, ...,  True,  True,  True],\n",
       "        [ True,  True,  True, ...,  True,  True,  True],\n",
       "        ...,\n",
       "        [ True,  True,  True, ...,  True,  True,  True],\n",
       "        [ True,  True,  True, ...,  True,  True,  True],\n",
       "        [ True,  True,  True, ...,  True,  True,  True]],\n",
       "\n",
       "       [[ True,  True,  True, ...,  True,  True,  True],\n",
       "        [ True,  True,  True, ...,  True,  True,  True],\n",
       "        [ True,  True,  True, ...,  True,  True,  True],\n",
       "        ...,\n",
       "        [ True,  True,  True, ...,  True,  True,  True],\n",
       "        [ True,  True,  True, ...,  True,  True,  True],\n",
       "        [ True,  True,  True, ...,  True,  True,  True]],\n",
       "\n",
       "       [[ True,  True,  True, ...,  True,  True,  True],\n",
       "        [ True,  True,  True, ...,  True,  True,  True],\n",
       "        [ True,  True,  True, ...,  True,  True,  True],\n",
       "        ...,\n",
       "        [ True,  True,  True, ...,  True,  True,  True],\n",
       "        [ True,  True,  True, ...,  True,  True,  True],\n",
       "        [ True,  True,  True, ...,  True,  True,  True]]])"
      ]
     },
     "execution_count": 22,
     "metadata": {},
     "output_type": "execute_result"
    }
   ],
   "source": [
    "count_bool_ge"
   ]
  },
  {
   "cell_type": "code",
   "execution_count": 19,
   "id": "novel-posting",
   "metadata": {},
   "outputs": [],
   "source": [
    "def main():\n",
    "    \n",
    "  sim = \"CTRL\"\n",
    "  st = f\"/chinook/marinier/CONUS_2D/{sim}\"\n",
    "\n",
    "  datai = 2002\n",
    "  dataf = 2011\n",
    "\n",
    "  store = '/chinook/cruman/Data/Near0Events' \n",
    "\n",
    "  ns = 1e-9\n",
    "\n",
    "  # Need to change this size later, as the grid is much larger now  \n",
    "  events = np.empty((153,166), dtype=object)\n",
    "\n",
    "  for i in range(events.shape[0]):\n",
    "    for j in range(events.shape[1]):      \n",
    "      events[i,j] = []      \n",
    "\n",
    "\n",
    "  aux = 0\n",
    "  t = 0\n",
    "  dur = 0\n",
    "  aux_sn = 0\n",
    "  t_sn = 0\n",
    "  dur_sn = 0\n",
    "  sn = 0\n",
    "  # annual data\n",
    "  for y in range(datai, dataf+1):\n",
    "    print(f\"Year: {y}\")\n",
    "    \n",
    "    for m in range(1, 13):\n",
    "\n",
    "      # Open Dataset\n",
    "      if 1 <= m <= 3:\n",
    "        mi = 1\n",
    "        mf = 3\n",
    "      elif 4 <= m <= 6:\n",
    "        mi = 4\n",
    "        mf = 6\n",
    "      elif 7 <= m <= 9:\n",
    "        mi = 7\n",
    "        mf = 9\n",
    "      else:\n",
    "        mi = 10\n",
    "        mf = 12\n",
    "\n",
    "      if (y == 2000) and m < 10:\n",
    "        continue\n",
    "\n",
    "      if (y == 2013) and m > 9:\n",
    "        continue\n",
    "\n",
    "#      if (m >= 5 and m <= 9):\n",
    "#        continue\n",
    "\n",
    "      #if (m < 5 or m > 9):\n",
    "      #  continue\n",
    "\n",
    "      #if os.path.exists(f\"t2m_{y}_{m:02d}.p\"):\n",
    "      #  print(\"jump\")\n",
    "       # continue      \n",
    "      \n",
    "      #/chinook/marinier/CONUS_2D/wrf2d_d01_CTRL_PREC_ACC_NC_200010-200012.nc\n",
    "      sn = xr.open_dataset(f'{st}/{y}/wrf2d_d01_CTRL_T2_{y}{mi:02d}-{y}{mf:02d}.nc', engine='netcdf4')      \n",
    "      pr = xr.open_dataset(f'{st}/{y}/wrf2d_d01_CTRL_PREC_ACC_NC_{y}{mi:02d}-{y}{mf:02d}.nc', engine='netcdf4')      \n",
    "\n",
    "      # Slicing the domain to make the computations faster\n",
    "      i1=721; j1=1167; i2=874; j2=1333\n",
    "            \n",
    "      sn = sn.T2\n",
    "      pr = pr.PREC_ACC_NC \n",
    "      \n",
    "      xlat = sn.XLAT\n",
    "      xlon = sn.XLONG\n",
    "      sn = sn[:,i1:i2,j1:j2]    \n",
    "      pr = pr[:,i1:i2,j1:j2]    \n",
    "\n",
    "      xlat = xlat[i1:i2,j1:j2]  \n",
    "      xlon = xlon[i1:i2,j1:j2]  \n",
    "\n",
    "      print(f\"Month: {m}\")\n",
    "\n",
    "      datai = datetime.strptime(f'{y}-{m:02d}-01 00:00', '%Y-%m-%d %H:%M')\n",
    "      dataf = datetime.strptime(f'{y}-{m:02d}-01 00:00', '%Y-%m-%d %H:%M')\n",
    "      dataf += relativedelta(months=1)\n",
    "    \n",
    "      #print(wsn)\n",
    "      \n",
    "      sn = sn.sel(Time=slice(datai.strftime('%Y-%m-%d %H:%M'), dataf.strftime('%Y-%m-%d %H:%M')))\n",
    "      pr = pr.sel(Time=slice(datai.strftime('%Y-%m-%d %H:%M'), dataf.strftime('%Y-%m-%d %H:%M')))\n",
    "      \n",
    "      return sn, pr\n",
    "      \n",
    "    \n",
    "        \n",
    "  return sn, pr\n",
    "\n",
    "      #count_bool_le = np.less_equal(sn, 2)\n",
    "      #count_bool_ge = np.greater_equal(sn, 2)\n",
    "\n",
    "      # use the np.where to mask everything that's >2 and <-2 in the data\n",
    "      # Where it's not masked, make it 1. \n",
    "      # Sum everything each month. That will be the number of hours      \n",
    "\n",
    "      \n",
    "      #pickle.dump( results_sn_p, open( f\"t2m_{y}_{m:02d}.p\", \"wb\" ) )      \n",
    "      \n",
    "      #events = np.empty((153,166), dtype=object)               \n",
    "\n",
    "#if __name__ == '__main__':\n",
    "#  main()"
   ]
  }
 ],
 "metadata": {
  "kernelspec": {
   "display_name": "Python 3",
   "language": "python",
   "name": "python3"
  },
  "language_info": {
   "codemirror_mode": {
    "name": "ipython",
    "version": 3
   },
   "file_extension": ".py",
   "mimetype": "text/x-python",
   "name": "python",
   "nbconvert_exporter": "python",
   "pygments_lexer": "ipython3",
   "version": "3.8.6"
  }
 },
 "nbformat": 4,
 "nbformat_minor": 5
}
